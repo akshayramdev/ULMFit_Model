{
  "cells": [
    {
      "metadata": {
        "_uuid": "8f4ba61032210e7c6c38d1e10b2945d3f7ff5f6d"
      },
      "cell_type": "markdown",
      "source": "# Twitter Airline Sentiment Analysis (ULMFiT)"
    },
    {
      "metadata": {
        "_uuid": "002138cc3d30e60595f6fdd0249b5274f69645d4"
      },
      "cell_type": "markdown",
      "source": "## Introduction"
    },
    {
      "metadata": {
        "_uuid": "db8eaed4bba95cbf0d6e51e4af3fab888dec6867"
      },
      "cell_type": "markdown",
      "source": "This notebook takes in the Dataset given to us [Twitter US Airline Sentiment Dataset](https://www.kaggle.com/crowdflower/twitter-airline-sentiment) and then predict the tweet sentiment using a Universal Language Model Fine-tuning for Text Classification ([ULMFiT])."
    },
    {
      "metadata": {
        "_uuid": "ae1c4edfe924fc366ebfc7d7338434f18b948296"
      },
      "cell_type": "markdown",
      "source": "## Setup"
    },
    {
      "metadata": {
        "_uuid": "e0893914ffed12ac6308cb6bfbfe8dc177ebada5"
      },
      "cell_type": "markdown",
      "source": "Packages that need to Imported"
    },
    {
      "metadata": {
        "trusted": true,
        "_uuid": "faca2bd9f6756ed19bd12d69d68f997a272f3169"
      },
      "cell_type": "code",
      "source": "# Basic packages\nimport pandas as pd \nimport numpy as np\nimport re\nimport collections\nimport matplotlib.pyplot as plt\n\n# Modeling, selection, and evaluation\nfrom fastai.text import *\nfrom sklearn.model_selection import train_test_split\nfrom sklearn.metrics import confusion_matrix, accuracy_score\nfrom sklearn.utils.multiclass import unique_labels\n\n%matplotlib inline ",
      "execution_count": null,
      "outputs": []
    },
    {
      "metadata": {
        "_uuid": "5f7a8fe5ae9344468d4882136f2d9ce46006397e"
      },
      "cell_type": "markdown",
      "source": "# Data Preparation"
    },
    {
      "metadata": {
        "_uuid": "a3eb5a1294773d7aa1a72fd7979c625d53fedce2"
      },
      "cell_type": "markdown",
      "source": "First we read the data and explore the  columns that can be used."
    },
    {
      "metadata": {
        "trusted": true,
        "_uuid": "47254dc4d6b6dc5d49438ee45aa91f4327922f6c"
      },
      "cell_type": "code",
      "source": "# Read file into dataframe\npd.set_option('display.max_colwidth', -1)\ndf = pd.read_csv('../input/Tweets.csv')\ndf = df.reindex(np.random.permutation(df.index))  \ndf.head()",
      "execution_count": null,
      "outputs": []
    },
    {
      "metadata": {
        "_uuid": "8cede8e8c36c138ec54636d12e3d052be9616f35"
      },
      "cell_type": "markdown",
      "source": "Distribution of the dependent variable: airline_sentiment, and its breakdown across airlines and tweet length. "
    },
    {
      "metadata": {
        "trusted": true,
        "_uuid": "d6297e30091968d61aad648007f558f016643ac2"
      },
      "cell_type": "code",
      "source": "df['airline_sentiment'].value_counts().plot(kind='bar')",
      "execution_count": null,
      "outputs": []
    },
    {
      "metadata": {
        "trusted": true,
        "_uuid": "2b1187ba0c78ee9c724d1debef911e8f92d12077"
      },
      "cell_type": "code",
      "source": "df['airline'].value_counts().plot(kind='bar')",
      "execution_count": null,
      "outputs": []
    },
    {
      "metadata": {
        "trusted": true,
        "_uuid": "76ee0fbd2697f44de81cc6000939792a0ad290dd"
      },
      "cell_type": "code",
      "source": "df.groupby(['airline', 'airline_sentiment']).size().unstack().plot(kind='bar', stacked=True)",
      "execution_count": null,
      "outputs": []
    },
    {
      "metadata": {
        "trusted": true,
        "_uuid": "20599ba5c6b31a7e2cb04310e0fb2180c18de84e"
      },
      "cell_type": "code",
      "source": "df['tweet_length'] = df['text'].apply(len)\ndf.groupby(['tweet_length', 'airline_sentiment']).size().unstack().plot(kind='line', stacked=False)",
      "execution_count": null,
      "outputs": []
    },
    {
      "metadata": {
        "_uuid": "e2dc85e6cfe1af4c8b94616d2b9dfee34cabd3d0"
      },
      "cell_type": "markdown",
      "source": "We can see that there isn't a lot of correlation between the number of positive / neutral tweets and the tweet length, but for negative tweets the distribution is heavily skewed towards longer tweets. This is possibly because the angier the tweeter, the more they have to say. Next we'll see if the same observation can be made about the average and median sentiment confidence as well."
    },
    {
      "metadata": {
        "trusted": true,
        "_uuid": "eab6234411542ec97b96a1e726db583081ad5798"
      },
      "cell_type": "code",
      "source": "df[['tweet_length', 'airline_sentiment', 'airline_sentiment_confidence']].groupby(['tweet_length', 'airline_sentiment']).mean().unstack().plot(kind='line', stacked=False)",
      "execution_count": null,
      "outputs": []
    },
    {
      "metadata": {
        "trusted": true,
        "_uuid": "f40c6280580908146eb1cf3c074dd25641cdccb6"
      },
      "cell_type": "code",
      "source": "df[['tweet_length', 'airline_sentiment', 'airline_sentiment_confidence']].groupby(['tweet_length', 'airline_sentiment']).median().unstack().plot(kind='line', stacked=False)",
      "execution_count": null,
      "outputs": []
    },
    {
      "metadata": {
        "_uuid": "c19f751ac9586379cab76159922bb1e6d117ce12"
      },
      "cell_type": "markdown",
      "source": "There isn't much of a relatable relationship between the confidence and the tweet length. Next we  will randomize and split the data, then write to CSVs. "
    },
    {
      "metadata": {
        "trusted": true,
        "_uuid": "5593b67c25038a885338cfacc3bc0db2faa59d5b"
      },
      "cell_type": "code",
      "source": "test_percentage = 0.1\ndf.sort_index(inplace=True)\ncutoff = int(test_percentage * df.shape[0])\ndf[['airline_sentiment', 'text']][:cutoff].to_csv('Tweets_filtered_test.csv', index=False, encoding='utf-8')\ndf[['airline_sentiment', 'text']][cutoff:].to_csv('Tweets_filtered_train.csv', index=False, encoding='utf-8')\ndf[['text']][cutoff:].to_csv('Tweets_text_only_train.csv', index=False, encoding='utf-8')",
      "execution_count": null,
      "outputs": []
    },
    {
      "metadata": {
        "_uuid": "749aad8c97cda59ca3d5cc6e1109c11fba226f03"
      },
      "cell_type": "markdown",
      "source": "### Tokenization"
    },
    {
      "metadata": {
        "_uuid": "c4b5c501b1635e1dbe2e998094adf94432cef679"
      },
      "cell_type": "markdown",
      "source": "We read the data and add new words to the dictionary, and we will create representations of words using numbers.. "
    },
    {
      "metadata": {
        "trusted": true,
        "_uuid": "eadc113d34dcec35521146b95b876a895f486d3e",
        "scrolled": true
      },
      "cell_type": "code",
      "source": "data = TextClasDataBunch.from_csv('.', 'Tweets_filtered_train.csv')\ndata.show_batch()",
      "execution_count": null,
      "outputs": []
    },
    {
      "metadata": {
        "_uuid": "790136e685728d6f28086cfcb7ef3bb93c6e6840"
      },
      "cell_type": "markdown",
      "source": "The following changes have been made to the text for ease of modeling:\n- split on space and punctuation symbols\n- the \"'s\" are grouped together in one token\n- the contractions are separated like this: \"did\", \"n't\"\n- there are several special tokens (all those that begin by xx), to replace unknown tokens (see below)"
    },
    {
      "metadata": {
        "trusted": true,
        "_uuid": "59520bc3f7302e8556a2e5df45f36f0d5c250632"
      },
      "cell_type": "code",
      "source": "data.vocab.itos[:10]",
      "execution_count": null,
      "outputs": []
    },
    {
      "metadata": {
        "_uuid": "8f6a97d7683f622c7ed39aab51b0f5c18e22b263"
      },
      "cell_type": "markdown",
      "source": "Looking into the dataset we can now see the current representation post-processing, in both text form and numerical."
    },
    {
      "metadata": {
        "trusted": true,
        "_uuid": "6f613b4a36c92a7886732faac4b0558c637cad0d"
      },
      "cell_type": "code",
      "source": "print(data.train_ds[0][0])\nprint(data.train_ds[1][0])\nprint(data.train_ds[2][0])",
      "execution_count": null,
      "outputs": []
    },
    {
      "metadata": {
        "trusted": true,
        "_uuid": "1b42d12d4e9b0c1d046d23a8881318de4daf6ff5"
      },
      "cell_type": "code",
      "source": "print(data.train_ds[0][0].data[:10])\nprint(data.train_ds[1][0].data[:10])\nprint(data.train_ds[2][0].data[:10])",
      "execution_count": null,
      "outputs": []
    },
    {
      "metadata": {
        "_uuid": "2f91e80464517fde3de71b048f015585212de95b"
      },
      "cell_type": "markdown",
      "source": "## Language Model"
    },
    {
      "metadata": {
        "_uuid": "5b13610fc4e8f88b213f4299c1f567b06711a4e9"
      },
      "cell_type": "markdown",
      "source": "We'll be using a language model provided from the fastai library and applying the pre-calculated weights from wikitext-103. This will provide a word embedding scheme that aligns with the corpus of airline tweets and will hopefully capture sufficient \"meaning\" in each word. The language model here will not be optimal as tweets sometimes do not obey conventional spelling and grammar, especially hastags. "
    },
    {
      "metadata": {
        "trusted": true,
        "_uuid": "e59b3e84415ea26a2f2eb13ff9ab8d72d13c02da"
      },
      "cell_type": "code",
      "source": "bs = 24\nseed = 333",
      "execution_count": null,
      "outputs": []
    },
    {
      "metadata": {
        "_uuid": "577868658a845cb78ec6d2c182c7771865d58242"
      },
      "cell_type": "markdown",
      "source": "First we ingest the data once again but have a 10% holdout only since we'll be using it to calibrate the language model. "
    },
    {
      "metadata": {
        "trusted": true,
        "_uuid": "eb04883c5fa59017586d8b0b6bed910d9a519f6c"
      },
      "cell_type": "code",
      "source": "data_lm = (TextList.from_csv('.', 'Tweets_text_only_train.csv')\n            .random_split_by_pct(0.1, seed = seed)\n           #We randomly split and keep 10% for validation\n            .label_for_lm()           \n           #We want to do a language model so we label accordingly\n            .databunch(bs=bs))\ndata_lm.save('data_lm.pkl')",
      "execution_count": null,
      "outputs": []
    },
    {
      "metadata": {
        "trusted": true,
        "_uuid": "51adb9e8db647d136c8b071ff5280bf04bd74332"
      },
      "cell_type": "code",
      "source": "# data_lm = load_data(path, 'data_lm.pkl', bs=bs)\ndata_lm.show_batch()",
      "execution_count": null,
      "outputs": []
    },
    {
      "metadata": {
        "_uuid": "e45e6b553721fe5b9f8cc9b91c05fccf0cb361e5"
      },
      "cell_type": "markdown",
      "source": "Now we define the language model and set the learning rates. "
    },
    {
      "metadata": {
        "trusted": true,
        "_uuid": "168da9047db23f4c73e325f40a736bad83868b04"
      },
      "cell_type": "code",
      "source": "learn = language_model_learner(data_lm, AWD_LSTM, drop_mult=0.3)",
      "execution_count": null,
      "outputs": []
    },
    {
      "metadata": {
        "trusted": true,
        "_uuid": "9ec59c8b669394b16b104e22cb4bfb48ac6a5e4f"
      },
      "cell_type": "code",
      "source": "learn.lr_find()",
      "execution_count": null,
      "outputs": []
    },
    {
      "metadata": {
        "trusted": true,
        "_uuid": "8d13823a8ec6e16826c27f29abc90e2a124b05e4"
      },
      "cell_type": "code",
      "source": "learn.recorder.plot(skip_end=15)",
      "execution_count": null,
      "outputs": []
    },
    {
      "metadata": {
        "_uuid": "4506084188a7f73e55b945108d76d55b8532a848"
      },
      "cell_type": "markdown",
      "source": "Next we fit the model for a few cycles by running 1 epoch and then unfreezing and running more epochs to fine tune.  "
    },
    {
      "metadata": {
        "trusted": true,
        "_uuid": "9499223dab7f3b70d30c9cfa456de509d5cb9e4e"
      },
      "cell_type": "code",
      "source": "learn.fit_one_cycle(1, 1e-2, moms=(0.8,0.7))",
      "execution_count": null,
      "outputs": []
    },
    {
      "metadata": {
        "trusted": true,
        "_uuid": "591b84005a3cd666f2a8f5b2b01d5a5af764ca60"
      },
      "cell_type": "code",
      "source": "learn.save('fit_head')\n# learn.load('fit_head')",
      "execution_count": null,
      "outputs": []
    },
    {
      "metadata": {
        "trusted": true,
        "_uuid": "0997782f35a4d3a9fd918377e370d68d2445b7f4"
      },
      "cell_type": "code",
      "source": "learn.unfreeze()",
      "execution_count": null,
      "outputs": []
    },
    {
      "metadata": {
        "trusted": true,
        "_uuid": "7b07d74c4a9aed170c02f34edbb9f3b42fb7dc1b"
      },
      "cell_type": "code",
      "source": "learn.fit_one_cycle(10, 1e-3, moms=(0.8,0.7))",
      "execution_count": null,
      "outputs": []
    },
    {
      "metadata": {
        "trusted": true,
        "_uuid": "ff336814fe0ec59ecc47b855118e655e21298fa5"
      },
      "cell_type": "code",
      "source": "learn.save('fine_tuned')",
      "execution_count": null,
      "outputs": []
    },
    {
      "metadata": {
        "trusted": true,
        "_uuid": "fa1a27351f989101baa799cfc5601f0e31ec428a"
      },
      "cell_type": "code",
      "source": "learn.save_encoder('fine_tuned_enc')",
      "execution_count": null,
      "outputs": []
    },
    {
      "metadata": {
        "_uuid": "2ceac5b715627d84b53f3dc8ff367a713b279b06"
      },
      "cell_type": "markdown",
      "source": "The language model didn't show the expected results.  This is likely due to the fact that tweets dont always follow proper English spelling and grammar, making it difficult for the model to correctly predict. "
    },
    {
      "metadata": {
        "_uuid": "b28d1b50858cdede3bf149504b9bd30b8e6875f2"
      },
      "cell_type": "markdown",
      "source": "## Classifier"
    },
    {
      "metadata": {
        "_uuid": "055671657bcf76f27717c00f4a5de19b5eddf6fe"
      },
      "cell_type": "markdown",
      "source": "Next we'll use the encoder from the language model in our classifier, which has a similar LSTM architecture but will predict the sentiment instead of the next word in a tweet. The model architecture here presents some advantages over traditional bags-of-words "
    },
    {
      "metadata": {
        "trusted": true,
        "_uuid": "50144a534af1fca350650121ed4c1a6d1c22376b"
      },
      "cell_type": "code",
      "source": "data_clas = (TextList.from_csv('.', 'Tweets_filtered_train.csv', cols = 'text')               \n             .random_split_by_pct(0.1, seed = seed)\n             .label_from_df(cols=0)\n             .databunch(bs=bs))\ndata_clas.save('data_clas.pkl')\ndata_clas.show_batch()",
      "execution_count": 33,
      "outputs": [
        {
          "output_type": "display_data",
          "data": {
            "text/plain": "<IPython.core.display.HTML object>",
            "text/html": "<table border=\"1\" class=\"dataframe\">\n  <thead>\n    <tr style=\"text-align: right;\">\n      <th>text</th>\n      <th>target</th>\n    </tr>\n  </thead>\n  <tbody>\n    <tr>\n      <td>xxbos @united xxmaj hi have a question re future xxmaj flight xxmaj booking xxmaj problems . xxup xxunk - xxup jac 29 / 9 xxup jac - xxup lax 8 / 10 xxup lax - xxup xxunk 13 / 10 . i 'm * xxup xxunk xxmaj what is checked bag allowance for xxup jac - xxup lax</td>\n      <td>neutral</td>\n    </tr>\n    <tr>\n      <td>xxbos @usairways xxmaj my xxmaj flight xxmaj booking xxmaj problems xxup xxunk just times out when i select it under xxmaj manage xxmaj my xxmaj flight xxmaj booking xxmaj problems for months now . i have emailed but no response . xxmaj help</td>\n      <td>negative</td>\n    </tr>\n    <tr>\n      <td>xxbos @united xxmaj missed xxup xxunk flight due to ur xxmaj cancelled xxmaj flightlation . xxmaj xxunk supervisor disgusting . xxmaj now day xxmaj late xxmaj flight . xxmaj no apology or upgrade offer to xxup lhr from xxup ord ? ?</td>\n      <td>negative</td>\n    </tr>\n    <tr>\n      <td>xxbos @usairways i 've been on hold for over 2 1 / 2 hours - there has to be an easier way to xxmaj cancelled xxmaj flight / get a refund ... 😑 😩 http : / / t.co /</td>\n      <td>negative</td>\n    </tr>\n    <tr>\n      <td>xxbos @southwestair xxmaj hi ! xxmaj winter xxmaj xxunk xxmaj advisory issued for xxup stl . xxmaj snow &amp; &amp; xxmaj ice &amp; &amp; xxmaj cold , oh my ! xxmaj will you issue a travel advisory for that</td>\n      <td>neutral</td>\n    </tr>\n  </tbody>\n</table>"
          },
          "metadata": {}
        }
      ]
    },
    {
      "metadata": {
        "trusted": true,
        "_uuid": "da00b9c3c11ef567092e866c59635d8c3f5f8094"
      },
      "cell_type": "code",
      "source": "learn = text_classifier_learner(data_clas, AWD_LSTM, drop_mult=0.5)\nlearn.load_encoder('fine_tuned_enc')",
      "execution_count": 34,
      "outputs": []
    },
    {
      "metadata": {
        "trusted": true,
        "_uuid": "3588b1b9187c1ac8bf02dc58cac6daa872cccde3"
      },
      "cell_type": "code",
      "source": "learn.lr_find()",
      "execution_count": 35,
      "outputs": [
        {
          "output_type": "display_data",
          "data": {
            "text/plain": "<IPython.core.display.HTML object>",
            "text/html": ""
          },
          "metadata": {}
        },
        {
          "output_type": "stream",
          "text": "LR Finder is complete, type {learner_name}.recorder.plot() to see the graph.\n",
          "name": "stdout"
        }
      ]
    },
    {
      "metadata": {
        "trusted": true,
        "_uuid": "a85a44722e4976b69aaa497bc1fbf7e3f8cfa499"
      },
      "cell_type": "code",
      "source": "learn.recorder.plot()",
      "execution_count": 36,
      "outputs": [
        {
          "output_type": "display_data",
          "data": {
            "text/plain": "<Figure size 432x288 with 1 Axes>",
            "image/png": "[encoded data removed]"
          },
          "metadata": {}
        }
      ]
    },
    {
      "metadata": {
        "_uuid": "0f85bab506edd029007a95cda6916860e2c4a9c0"
      },
      "cell_type": "markdown",
      "source": "We train by gradually unfreezing layers and then running an epoch each time, in accordance with the suggestions in the ULMFiT paper."
    },
    {
      "metadata": {
        "trusted": true,
        "_uuid": "667ee3a18340c14dd08ab87a76fbdf569d6bd223"
      },
      "cell_type": "code",
      "source": "learn.fit_one_cycle(1, 2e-2, moms=(0.8,0.7))",
      "execution_count": 37,
      "outputs": [
        {
          "output_type": "display_data",
          "data": {
            "text/plain": "<IPython.core.display.HTML object>",
            "text/html": "Total time: 00:08 <p><table border=\"1\" class=\"dataframe\">\n  <thead>\n    <tr style=\"text-align: left;\">\n      <th>epoch</th>\n      <th>train_loss</th>\n      <th>valid_loss</th>\n      <th>accuracy</th>\n      <th>time</th>\n    </tr>\n  </thead>\n  <tbody>\n    <tr>\n      <td>0</td>\n      <td>0.618032</td>\n      <td>0.519811</td>\n      <td>0.792711</td>\n      <td>00:08</td>\n    </tr>\n  </tbody>\n</table>"
          },
          "metadata": {}
        }
      ]
    },
    {
      "metadata": {
        "trusted": true,
        "_uuid": "a2720ee5b3056c080bd22ffe64709aa8187b7809"
      },
      "cell_type": "code",
      "source": "learn.save('first')\n# learn.load('first)",
      "execution_count": 38,
      "outputs": []
    },
    {
      "metadata": {
        "trusted": true,
        "_uuid": "066ec9fa2a5a4d3d37e44c8648a06cf3e83404b8"
      },
      "cell_type": "code",
      "source": "learn.freeze_to(-2)\nlearn.fit_one_cycle(1, slice(1e-2/(2.6**4),1e-2), moms=(0.8,0.7))",
      "execution_count": 39,
      "outputs": [
        {
          "output_type": "display_data",
          "data": {
            "text/plain": "<IPython.core.display.HTML object>",
            "text/html": "Total time: 00:09 <p><table border=\"1\" class=\"dataframe\">\n  <thead>\n    <tr style=\"text-align: left;\">\n      <th>epoch</th>\n      <th>train_loss</th>\n      <th>valid_loss</th>\n      <th>accuracy</th>\n      <th>time</th>\n    </tr>\n  </thead>\n  <tbody>\n    <tr>\n      <td>0</td>\n      <td>0.612687</td>\n      <td>0.497983</td>\n      <td>0.800304</td>\n      <td>00:09</td>\n    </tr>\n  </tbody>\n</table>"
          },
          "metadata": {}
        }
      ]
    },
    {
      "metadata": {
        "trusted": true,
        "_uuid": "6107a12891988eda610a53730036b49f5b0d0f2d"
      },
      "cell_type": "code",
      "source": "learn.save('second')\n# learn.load('second')",
      "execution_count": 40,
      "outputs": []
    },
    {
      "metadata": {
        "trusted": true,
        "_uuid": "c35a14796de0fa8da8dc11e37eb2b86742db1412"
      },
      "cell_type": "code",
      "source": "learn.freeze_to(-3)\nlearn.fit_one_cycle(1, slice(5e-3/(2.6**4),5e-3), moms=(0.8,0.7))",
      "execution_count": 41,
      "outputs": [
        {
          "output_type": "display_data",
          "data": {
            "text/plain": "<IPython.core.display.HTML object>",
            "text/html": "Total time: 00:14 <p><table border=\"1\" class=\"dataframe\">\n  <thead>\n    <tr style=\"text-align: left;\">\n      <th>epoch</th>\n      <th>train_loss</th>\n      <th>valid_loss</th>\n      <th>accuracy</th>\n      <th>time</th>\n    </tr>\n  </thead>\n  <tbody>\n    <tr>\n      <td>0</td>\n      <td>0.574817</td>\n      <td>0.496480</td>\n      <td>0.809415</td>\n      <td>00:14</td>\n    </tr>\n  </tbody>\n</table>"
          },
          "metadata": {}
        }
      ]
    },
    {
      "metadata": {
        "trusted": true,
        "_uuid": "60939b1382efb58e5f333ad63bbd022a7b5f075c"
      },
      "cell_type": "code",
      "source": "learn.unfreeze()\nlearn.fit_one_cycle(3, slice(1e-3/(2.6**4),1e-3), moms=(0.8,0.7))",
      "execution_count": 42,
      "outputs": [
        {
          "output_type": "display_data",
          "data": {
            "text/plain": "<IPython.core.display.HTML object>",
            "text/html": "Total time: 00:54 <p><table border=\"1\" class=\"dataframe\">\n  <thead>\n    <tr style=\"text-align: left;\">\n      <th>epoch</th>\n      <th>train_loss</th>\n      <th>valid_loss</th>\n      <th>accuracy</th>\n      <th>time</th>\n    </tr>\n  </thead>\n  <tbody>\n    <tr>\n      <td>0</td>\n      <td>0.507679</td>\n      <td>0.469228</td>\n      <td>0.813971</td>\n      <td>00:18</td>\n    </tr>\n    <tr>\n      <td>1</td>\n      <td>0.521484</td>\n      <td>0.454676</td>\n      <td>0.817008</td>\n      <td>00:18</td>\n    </tr>\n    <tr>\n      <td>2</td>\n      <td>0.523521</td>\n      <td>0.453216</td>\n      <td>0.813971</td>\n      <td>00:17</td>\n    </tr>\n  </tbody>\n</table>"
          },
          "metadata": {}
        }
      ]
    },
    {
      "metadata": {
        "_uuid": "480f552d5de6dc7afdb0a3497d1c837fe28e04f5"
      },
      "cell_type": "markdown",
      "source": "### Evaluate Performance on Test Set"
    },
    {
      "metadata": {
        "trusted": true,
        "_uuid": "39bf18fc85a5ded5990a8991b8f73fff40fa7843"
      },
      "cell_type": "code",
      "source": "test_df = pd.read_csv(\"Tweets_filtered_test.csv\", encoding=\"utf-8\")\ntest_df['airline_sentiment'].value_counts().plot(kind='bar')",
      "execution_count": 43,
      "outputs": [
        {
          "output_type": "execute_result",
          "execution_count": 43,
          "data": {
            "text/plain": "<matplotlib.axes._subplots.AxesSubplot at 0x7f87229bd0b8>"
          },
          "metadata": {}
        },
        {
          "output_type": "display_data",
          "data": {
            "text/plain": "<Figure size 432x288 with 1 Axes>",
            "image/png": "[encoded data removed]"
          },
          "metadata": {}
        }
      ]
    },
    {
      "metadata": {
        "trusted": true,
        "_uuid": "a7b63f6e41cbe2acb966e6d5bcf435b1444968b2"
      },
      "cell_type": "code",
      "source": "test_df['pred_sentiment'] = test_df['text'].apply(lambda row: str(learn.predict(row)[0]))\nprint(\"Test Accuracy: \", accuracy_score(test_df['airline_sentiment'], test_df['pred_sentiment']))",
      "execution_count": 45,
      "outputs": [
        {
          "output_type": "stream",
          "text": "Test Accuracy:  0.7827868852459017\n",
          "name": "stdout"
        }
      ]
    },
    {
      "metadata": {
        "trusted": true,
        "_uuid": "6516627de2dfa24b6f606adc5da53d826e2c879e"
      },
      "cell_type": "code",
      "source": "test_df[:20]",
      "execution_count": 46,
      "outputs": [
        {
          "output_type": "execute_result",
          "execution_count": 46,
          "data": {
            "text/plain": "   airline_sentiment      ...       pred_sentiment\n0   neutral               ...        neutral      \n1   positive              ...        negative     \n2   neutral               ...        negative     \n3   negative              ...        negative     \n4   negative              ...        positive     \n5   negative              ...        negative     \n6   positive              ...        negative     \n7   neutral               ...        negative     \n8   positive              ...        negative     \n9   positive              ...        positive     \n10  neutral               ...        neutral      \n11  positive              ...        positive     \n12  positive              ...        positive     \n13  positive              ...        positive     \n14  positive              ...        positive     \n15  negative              ...        neutral      \n16  positive              ...        positive     \n17  negative              ...        negative     \n18  positive              ...        positive     \n19  positive              ...        negative     \n\n[20 rows x 3 columns]",
            "text/html": "<div>\n<style scoped>\n    .dataframe tbody tr th:only-of-type {\n        vertical-align: middle;\n    }\n\n    .dataframe tbody tr th {\n        vertical-align: top;\n    }\n\n    .dataframe thead th {\n        text-align: right;\n    }\n</style>\n<table border=\"1\" class=\"dataframe\">\n  <thead>\n    <tr style=\"text-align: right;\">\n      <th></th>\n      <th>airline_sentiment</th>\n      <th>text</th>\n      <th>pred_sentiment</th>\n    </tr>\n  </thead>\n  <tbody>\n    <tr>\n      <th>0</th>\n      <td>neutral</td>\n      <td>@VirginAmerica What @dhepburn said.</td>\n      <td>neutral</td>\n    </tr>\n    <tr>\n      <th>1</th>\n      <td>positive</td>\n      <td>@VirginAmerica plus you've added commercials to the experience... tacky.</td>\n      <td>negative</td>\n    </tr>\n    <tr>\n      <th>2</th>\n      <td>neutral</td>\n      <td>@VirginAmerica I didn't today... Must mean I need to take another trip!</td>\n      <td>negative</td>\n    </tr>\n    <tr>\n      <th>3</th>\n      <td>negative</td>\n      <td>@VirginAmerica it's really aggressive to blast obnoxious \"entertainment\" in your guests' faces &amp;amp; they have little recourse</td>\n      <td>negative</td>\n    </tr>\n    <tr>\n      <th>4</th>\n      <td>negative</td>\n      <td>@VirginAmerica and it's a really big bad thing about it</td>\n      <td>positive</td>\n    </tr>\n    <tr>\n      <th>5</th>\n      <td>negative</td>\n      <td>@VirginAmerica seriously would pay $30 a flight for seats that didn't have this playing.\\nit's really the only bad thing about flying VA</td>\n      <td>negative</td>\n    </tr>\n    <tr>\n      <th>6</th>\n      <td>positive</td>\n      <td>@VirginAmerica yes, nearly every time I fly VX this “ear worm” won’t go away :)</td>\n      <td>negative</td>\n    </tr>\n    <tr>\n      <th>7</th>\n      <td>neutral</td>\n      <td>@VirginAmerica Really missed a prime opportunity for Men Without Hats parody, there. https://t.co/mWpG7grEZP</td>\n      <td>negative</td>\n    </tr>\n    <tr>\n      <th>8</th>\n      <td>positive</td>\n      <td>@virginamerica Well, I didn't…but NOW I DO! :-D</td>\n      <td>negative</td>\n    </tr>\n    <tr>\n      <th>9</th>\n      <td>positive</td>\n      <td>@VirginAmerica it was amazing, and arrived an hour early. You're too good to me.</td>\n      <td>positive</td>\n    </tr>\n    <tr>\n      <th>10</th>\n      <td>neutral</td>\n      <td>@VirginAmerica did you know that suicide is the second leading cause of death among teens 10-24</td>\n      <td>neutral</td>\n    </tr>\n    <tr>\n      <th>11</th>\n      <td>positive</td>\n      <td>@VirginAmerica I &amp;lt;3 pretty graphics. so much better than minimal iconography. :D</td>\n      <td>positive</td>\n    </tr>\n    <tr>\n      <th>12</th>\n      <td>positive</td>\n      <td>@VirginAmerica This is such a great deal! Already thinking about my 2nd trip to @Australia &amp;amp; I haven't even gone on my 1st trip yet! ;p</td>\n      <td>positive</td>\n    </tr>\n    <tr>\n      <th>13</th>\n      <td>positive</td>\n      <td>@VirginAmerica @virginmedia I'm flying your #fabulous #Seductive skies again! U take all the #stress away from travel http://t.co/ahlXHhKiyn</td>\n      <td>positive</td>\n    </tr>\n    <tr>\n      <th>14</th>\n      <td>positive</td>\n      <td>@VirginAmerica Thanks!</td>\n      <td>positive</td>\n    </tr>\n    <tr>\n      <th>15</th>\n      <td>negative</td>\n      <td>@VirginAmerica SFO-PDX schedule is still MIA.</td>\n      <td>neutral</td>\n    </tr>\n    <tr>\n      <th>16</th>\n      <td>positive</td>\n      <td>@VirginAmerica So excited for my first cross country flight LAX to MCO I've heard nothing but great things about Virgin America. #29DaysToGo</td>\n      <td>positive</td>\n    </tr>\n    <tr>\n      <th>17</th>\n      <td>negative</td>\n      <td>@VirginAmerica  I flew from NYC to SFO last week and couldn't fully sit in my seat due to two large gentleman on either side of me. HELP!</td>\n      <td>negative</td>\n    </tr>\n    <tr>\n      <th>18</th>\n      <td>positive</td>\n      <td>I ❤️ flying @VirginAmerica. ☺️👍</td>\n      <td>positive</td>\n    </tr>\n    <tr>\n      <th>19</th>\n      <td>positive</td>\n      <td>@VirginAmerica you know what would be amazingly awesome? BOS-FLL PLEASE!!!!!!! I want to fly with only you.</td>\n      <td>negative</td>\n    </tr>\n  </tbody>\n</table>\n</div>"
          },
          "metadata": {}
        }
      ]
    },
    {
      "metadata": {
        "_uuid": "57beee8541dda946b417f4d9892d2301969ae58c"
      },
      "cell_type": "markdown",
      "source": "Plot confusion matrix to see where the areas of misclassification are. "
    },
    {
      "metadata": {
        "trusted": true,
        "_uuid": "b9f8e30a2bf5d237cfe6c1f9496ab913bebb5de2"
      },
      "cell_type": "code",
      "source": "# Confusion matrix plotting adapted from https://scikit-learn.org/stable/auto_examples/model_selection/plot_confusion_matrix.html#sphx-glr-auto-examples-model-selection-plot-confusion-matrix-py\ndef plot_confusion_matrix(y_true, y_pred, classes,\n                          normalize=False,\n                          title=None,\n                          cmap=plt.cm.Blues):\n    \"\"\"\n    This function prints and plots the confusion matrix.\n    Normalization can be applied by setting `normalize=True`.\n    \"\"\"\n    if not title:\n        if normalize:\n            title = 'Normalized confusion matrix'\n        else:\n            title = 'Confusion matrix, without normalization'\n\n    # Compute confusion matrix\n    cm = confusion_matrix(y_true, y_pred)\n    # Only use the labels that appear in the data\n    #classes = classes[unique_labels(y_true, y_pred)]\n\n    fig, ax = plt.subplots()\n    im = ax.imshow(cm, interpolation='nearest', cmap=cmap)\n    ax.figure.colorbar(im, ax=ax)\n    # We want to show all ticks...\n    ax.set(xticks=np.arange(cm.shape[1]),\n           yticks=np.arange(cm.shape[0]),\n           # ... and label them with the respective list entries\n           xticklabels=classes, yticklabels=classes,\n           title=title,\n           ylabel='True label',\n           xlabel='Predicted label')\n\n    # Rotate the tick labels and set their alignment.\n    plt.setp(ax.get_xticklabels(), rotation=45, ha=\"right\",\n             rotation_mode=\"anchor\")\n\n    # Loop over data dimensions and create text annotations.\n    fmt = '.2f' if normalize else 'd'\n    thresh = cm.max() / 2.\n    for i in range(cm.shape[0]):\n        for j in range(cm.shape[1]):\n            ax.text(j, i, format(cm[i, j], fmt),\n                    ha=\"center\", va=\"center\",\n                    color=\"white\" if cm[i, j] > thresh else \"black\")\n    fig.tight_layout()\n    return ax",
      "execution_count": 49,
      "outputs": []
    },
    {
      "metadata": {
        "trusted": true,
        "_uuid": "2d9d8f505912f65f5e6dc9fc72494f8657204988"
      },
      "cell_type": "code",
      "source": "plot_confusion_matrix(test_df['airline_sentiment'], test_df['pred_sentiment'], classes=['negative', 'neutral', 'positive'], title='Airline sentiment confusion matrix')\n# confusion_matrix(test_df['airline_sentiment'], test_df['pred_sentiment'], labels=['positive', 'neutral', 'negative'])\nplt.show()",
      "execution_count": 50,
      "outputs": [
        {
          "output_type": "display_data",
          "data": {
            "text/plain": "<Figure size 432x288 with 2 Axes>",
            "image/png": "[encoded data removed]"
          },
          "metadata": {}
        }
      ]
    },
    {
      "metadata": {
        "_uuid": "d2494f9841d3bf6ddec89e0ce13478c79d5f7554"
      },
      "cell_type": "markdown",
      "source": "From the confusion matrix, we can see that within True Negatives, the prediction accuracy is pretty high. The model has a very hard time classifying neutral tweets, and often misclassifies them as negative. For True Positives, the overall accuracy is pretty good but a surprisingly large number get classified as negative. Let's look at these in closer detail:"
    },
    {
      "metadata": {
        "trusted": true,
        "_uuid": "d3d5c67cefb1ea4f932a43dca44665ef65e7243f"
      },
      "cell_type": "code",
      "source": "test_df.loc[(test_df['airline_sentiment'] == 'positive') & (test_df['pred_sentiment'] == 'negative')]",
      "execution_count": 51,
      "outputs": [
        {
          "output_type": "execute_result",
          "execution_count": 51,
          "data": {
            "text/plain": "     airline_sentiment      ...       pred_sentiment\n1     positive              ...        negative     \n6     positive              ...        negative     \n8     positive              ...        negative     \n19    positive              ...        negative     \n64    positive              ...        negative     \n114   positive              ...        negative     \n203   positive              ...        negative     \n273   positive              ...        negative     \n307   positive              ...        negative     \n323   positive              ...        negative     \n358   positive              ...        negative     \n369   positive              ...        negative     \n375   positive              ...        negative     \n385   positive              ...        negative     \n404   positive              ...        negative     \n421   positive              ...        negative     \n451   positive              ...        negative     \n459   positive              ...        negative     \n463   positive              ...        negative     \n477   positive              ...        negative     \n480   positive              ...        negative     \n502   positive              ...        negative     \n508   positive              ...        negative     \n527   positive              ...        negative     \n552   positive              ...        negative     \n578   positive              ...        negative     \n589   positive              ...        negative     \n607   positive              ...        negative     \n611   positive              ...        negative     \n663   positive              ...        negative     \n690   positive              ...        negative     \n699   positive              ...        negative     \n716   positive              ...        negative     \n721   positive              ...        negative     \n722   positive              ...        negative     \n723   positive              ...        negative     \n773   positive              ...        negative     \n781   positive              ...        negative     \n806   positive              ...        negative     \n834   positive              ...        negative     \n882   positive              ...        negative     \n886   positive              ...        negative     \n941   positive              ...        negative     \n998   positive              ...        negative     \n1014  positive              ...        negative     \n1036  positive              ...        negative     \n1037  positive              ...        negative     \n1087  positive              ...        negative     \n1108  positive              ...        negative     \n1177  positive              ...        negative     \n1315  positive              ...        negative     \n1352  positive              ...        negative     \n1415  positive              ...        negative     \n\n[53 rows x 3 columns]",
            "text/html": "<div>\n<style scoped>\n    .dataframe tbody tr th:only-of-type {\n        vertical-align: middle;\n    }\n\n    .dataframe tbody tr th {\n        vertical-align: top;\n    }\n\n    .dataframe thead th {\n        text-align: right;\n    }\n</style>\n<table border=\"1\" class=\"dataframe\">\n  <thead>\n    <tr style=\"text-align: right;\">\n      <th></th>\n      <th>airline_sentiment</th>\n      <th>text</th>\n      <th>pred_sentiment</th>\n    </tr>\n  </thead>\n  <tbody>\n    <tr>\n      <th>1</th>\n      <td>positive</td>\n      <td>@VirginAmerica plus you've added commercials to the experience... tacky.</td>\n      <td>negative</td>\n    </tr>\n    <tr>\n      <th>6</th>\n      <td>positive</td>\n      <td>@VirginAmerica yes, nearly every time I fly VX this “ear worm” won’t go away :)</td>\n      <td>negative</td>\n    </tr>\n    <tr>\n      <th>8</th>\n      <td>positive</td>\n      <td>@virginamerica Well, I didn't…but NOW I DO! :-D</td>\n      <td>negative</td>\n    </tr>\n    <tr>\n      <th>19</th>\n      <td>positive</td>\n      <td>@VirginAmerica you know what would be amazingly awesome? BOS-FLL PLEASE!!!!!!! I want to fly with only you.</td>\n      <td>negative</td>\n    </tr>\n    <tr>\n      <th>64</th>\n      <td>positive</td>\n      <td>@VirginAmerica @ladygaga @carrieunderwood  love all three but you really can't beat the classics!</td>\n      <td>negative</td>\n    </tr>\n    <tr>\n      <th>114</th>\n      <td>positive</td>\n      <td>@VirginAmerica come back to #PHL already. We need you to take us out of this horrible cold. #pleasecomeback http://t.co/gLXFwP6nQH</td>\n      <td>negative</td>\n    </tr>\n    <tr>\n      <th>203</th>\n      <td>positive</td>\n      <td>@VirginAmerica cool picture of another VirginAmerica plane off our wing. What a site! http://t.co/5B2agFd8c4</td>\n      <td>negative</td>\n    </tr>\n    <tr>\n      <th>273</th>\n      <td>positive</td>\n      <td>@VirginAmerica cutest salt and pepper shaker ever. Just when I think you guys can't get any better you just do! http://t.co/vC6Keulg2J</td>\n      <td>negative</td>\n    </tr>\n    <tr>\n      <th>307</th>\n      <td>positive</td>\n      <td>@VirginAmerica I mean. Probably inappropriate while on board.. But, it's on!</td>\n      <td>negative</td>\n    </tr>\n    <tr>\n      <th>323</th>\n      <td>positive</td>\n      <td>@VirginAmerica How about some free drinks on the flight back for the free promo?</td>\n      <td>negative</td>\n    </tr>\n    <tr>\n      <th>358</th>\n      <td>positive</td>\n      <td>@VirginAmerica just promoting the product is all, had a problem with southwest and recommend noneother than the best! http://t.co/tFaNXBh1Cf</td>\n      <td>negative</td>\n    </tr>\n    <tr>\n      <th>369</th>\n      <td>positive</td>\n      <td>@VirginAmerica got it squared away. Someone picked up as soon as I tweeted. Should have tweeted sooner. 😉</td>\n      <td>negative</td>\n    </tr>\n    <tr>\n      <th>375</th>\n      <td>positive</td>\n      <td>@VirginAmerica  Flight Booking Problems last second flight for next week from SFO- to SAN any chance you want to gift me a promo code since I love you guys</td>\n      <td>negative</td>\n    </tr>\n    <tr>\n      <th>385</th>\n      <td>positive</td>\n      <td>@VirginAmerica that doesn't look to fat to me! It looks yummy!</td>\n      <td>negative</td>\n    </tr>\n    <tr>\n      <th>404</th>\n      <td>positive</td>\n      <td>@VirginAmerica this is too cool!  Never been on ur planes but now I will!!</td>\n      <td>negative</td>\n    </tr>\n    <tr>\n      <th>421</th>\n      <td>positive</td>\n      <td>@VirginAmerica I luv ur people and product! 1 thing is y do u charge for herbal tea but not black tea? I'm not a caffeine drinker</td>\n      <td>negative</td>\n    </tr>\n    <tr>\n      <th>451</th>\n      <td>positive</td>\n      <td>@VirginAmerica I am all about the in flight artisanal cheese and wine pairing.</td>\n      <td>negative</td>\n    </tr>\n    <tr>\n      <th>459</th>\n      <td>positive</td>\n      <td>@VirginAmerica @JezzieGoldz would have been a rough trip but LUCKILY we were on a #virginamerica flight. #weather</td>\n      <td>negative</td>\n    </tr>\n    <tr>\n      <th>463</th>\n      <td>positive</td>\n      <td>@VirginAmerica another perfect flight.   How come on your planes,  the sun visors can stay down?  Other carriers make you raise them?</td>\n      <td>negative</td>\n    </tr>\n    <tr>\n      <th>477</th>\n      <td>positive</td>\n      <td>@VirginAmerica wifi AND better seating.</td>\n      <td>negative</td>\n    </tr>\n    <tr>\n      <th>480</th>\n      <td>positive</td>\n      <td>.@VirginAmerica not only was it great, but you return my calls the day after. Couldn't ask for more. #myVXexperience</td>\n      <td>negative</td>\n    </tr>\n    <tr>\n      <th>502</th>\n      <td>positive</td>\n      <td>@VirginAmerica Flying LAX to SFO and after looking at the awesome movie lineup I actually wish I was on a long haul.</td>\n      <td>negative</td>\n    </tr>\n    <tr>\n      <th>508</th>\n      <td>positive</td>\n      <td>@united thanks -- we filled it out. How's our luck with this? Is it common?</td>\n      <td>negative</td>\n    </tr>\n    <tr>\n      <th>527</th>\n      <td>positive</td>\n      <td>@united just wanted to let you know how wonderful Rosetta the gate agent was working flight 6457 Dan to Ase. Let her know she wasappreciated</td>\n      <td>negative</td>\n    </tr>\n    <tr>\n      <th>552</th>\n      <td>positive</td>\n      <td>@united - thanks for your help...got me what I need, but its an issue with @_austrian . I guess I sit awhile longer.</td>\n      <td>negative</td>\n    </tr>\n    <tr>\n      <th>578</th>\n      <td>positive</td>\n      <td>@united I flew United last month and the experience was AWESOME!</td>\n      <td>negative</td>\n    </tr>\n    <tr>\n      <th>589</th>\n      <td>positive</td>\n      <td>@united 441, which also had 1 working WC in coach. Good thing this bird landed ahead of schedule. I have to use the WC stat.</td>\n      <td>negative</td>\n    </tr>\n    <tr>\n      <th>607</th>\n      <td>positive</td>\n      <td>@united despite my bag not making it to Newark good informative email tracking updates help!</td>\n      <td>negative</td>\n    </tr>\n    <tr>\n      <th>611</th>\n      <td>positive</td>\n      <td>@united Wow. What a deal. Again, 30+ plus seats available. Easy change to make a customer happy.</td>\n      <td>negative</td>\n    </tr>\n    <tr>\n      <th>663</th>\n      <td>positive</td>\n      <td>@united private jet would have been cool! Do does not work. I'll try again</td>\n      <td>negative</td>\n    </tr>\n    <tr>\n      <th>690</th>\n      <td>positive</td>\n      <td>@united kudos for not Cancelled Flightling flights from DFW this morning.   United usually first to panic...</td>\n      <td>negative</td>\n    </tr>\n    <tr>\n      <th>699</th>\n      <td>positive</td>\n      <td>@united Every United flight between Saipan and Guam is an adventure! You never know when @CapeAir's old plane will be operational :)</td>\n      <td>negative</td>\n    </tr>\n    <tr>\n      <th>716</th>\n      <td>positive</td>\n      <td>@united thank you. Been trying for two days to set this up.</td>\n      <td>negative</td>\n    </tr>\n    <tr>\n      <th>721</th>\n      <td>positive</td>\n      <td>@united Definitely a compliment! I really thought my bag was lost after it was sent on to another airport. In the end I am a happy customer</td>\n      <td>negative</td>\n    </tr>\n    <tr>\n      <th>722</th>\n      <td>positive</td>\n      <td>@united thanx so much. You followed through and emailed me a $1000 ticket voucher. #unitedairlines they do care</td>\n      <td>negative</td>\n    </tr>\n    <tr>\n      <th>723</th>\n      <td>positive</td>\n      <td>@united this will definitely be a trip to remember EWR-STI second of the season, first on seat 35A because it pays to be loyal!</td>\n      <td>negative</td>\n    </tr>\n    <tr>\n      <th>773</th>\n      <td>positive</td>\n      <td>@united flight ua3576, gate b1. And tell ray I somehow made it on to the 736 flight out of IAH and didn't have to wait for the 917 one. :)</td>\n      <td>negative</td>\n    </tr>\n    <tr>\n      <th>781</th>\n      <td>positive</td>\n      <td>@united you too!</td>\n      <td>negative</td>\n    </tr>\n    <tr>\n      <th>806</th>\n      <td>positive</td>\n      <td>@united you guys continue to impress me in Houston. http://t.co/cIh1qNllcM</td>\n      <td>negative</td>\n    </tr>\n    <tr>\n      <th>834</th>\n      <td>positive</td>\n      <td>@united not just refunded, but for those of us who are on vacation to get a free room night to make up for making us sleep in DIA</td>\n      <td>negative</td>\n    </tr>\n    <tr>\n      <th>882</th>\n      <td>positive</td>\n      <td>@united I left my comment with customer care. Thanks for contacting me.</td>\n      <td>negative</td>\n    </tr>\n    <tr>\n      <th>886</th>\n      <td>positive</td>\n      <td>@united captain \"on behalf of the front office, welcome on board.\".... Never heard that before. I laughed...hard.  #funnycaptain</td>\n      <td>negative</td>\n    </tr>\n    <tr>\n      <th>941</th>\n      <td>positive</td>\n      <td>@united that's exactly the point. It fits. I'm premier access. Boarding group 2. This was a return ticket. I've been doing this for 15 yrs</td>\n      <td>negative</td>\n    </tr>\n    <tr>\n      <th>998</th>\n      <td>positive</td>\n      <td>@united he has no priority and Iove it</td>\n      <td>negative</td>\n    </tr>\n    <tr>\n      <th>1014</th>\n      <td>positive</td>\n      <td>@united thanks for listening! I definitely was not the only person in line who thought it was absurd.</td>\n      <td>negative</td>\n    </tr>\n    <tr>\n      <th>1036</th>\n      <td>positive</td>\n      <td>@united flight 1491...plane from SFO to DEN is basically on time.</td>\n      <td>negative</td>\n    </tr>\n    <tr>\n      <th>1037</th>\n      <td>positive</td>\n      <td>@united thanks. Just a program comment; the system assigned seats behind each other even though pairs were available. I changed it back.</td>\n      <td>negative</td>\n    </tr>\n    <tr>\n      <th>1087</th>\n      <td>positive</td>\n      <td>@united counter agents at RDU deserve a medal. #thankyou</td>\n      <td>negative</td>\n    </tr>\n    <tr>\n      <th>1108</th>\n      <td>positive</td>\n      <td>@united @JMS2802 : outsource it all United Airlines...your customers  are just loving you for it. Outsource. Outsource. Outsource.</td>\n      <td>negative</td>\n    </tr>\n    <tr>\n      <th>1177</th>\n      <td>positive</td>\n      <td>@united just confirmed a seat! Crisis averted! Beers won't be missed now</td>\n      <td>negative</td>\n    </tr>\n    <tr>\n      <th>1315</th>\n      <td>positive</td>\n      <td>@united have Michelle at T1 ORD train your other staff on how to treat customers. A refreshing pleasure to deal with.</td>\n      <td>negative</td>\n    </tr>\n    <tr>\n      <th>1352</th>\n      <td>positive</td>\n      <td>@united the staff was rather efficient and got us solutions just freaked me out a little being in limbo in the air.</td>\n      <td>negative</td>\n    </tr>\n    <tr>\n      <th>1415</th>\n      <td>positive</td>\n      <td>@united Worked like a charm. Bag was waiting on the carousel when we got to baggage claim. #welldone #goodflight #friendlysky</td>\n      <td>negative</td>\n    </tr>\n  </tbody>\n</table>\n</div>"
          },
          "metadata": {}
        }
      ]
    },
    {
      "metadata": {
        "_uuid": "c62aa7f9e39908a1455ac0af361d664d54c0e8d8"
      },
      "cell_type": "markdown",
      "source": "It's not immediately clear what the common thread that led these tweets to be mislabelled but possible causes include missing signals from hastags, non-grammatical sentences, mis-spellings, etc. which generally contribute to the classification error. \n\nIn the future, it would be good to spend more time on feature engineering and fitting the language model so that it's more suited to the vocabulary and style of language that is in tweets. From the language model and processing steps, we can see that the model accuracy is not very high and that, even as humans, it's hard to discern the sentiment from the post-processed / tokenized text. One possible way of addressing this issue is to use a much larger corpus of tweets when developing the language model. "
    }
  ],
  "metadata": {
    "kernelspec": {
      "display_name": "Python 3",
      "language": "python",
      "name": "python3"
    },
    "language_info": {
      "name": "python",
      "version": "3.6.6",
      "mimetype": "text/x-python",
      "codemirror_mode": {
        "name": "ipython",
        "version": 3
      },
      "pygments_lexer": "ipython3",
      "nbconvert_exporter": "python",
      "file_extension": ".py"
    }
  },
  "nbformat": 4,
  "nbformat_minor": 1
}